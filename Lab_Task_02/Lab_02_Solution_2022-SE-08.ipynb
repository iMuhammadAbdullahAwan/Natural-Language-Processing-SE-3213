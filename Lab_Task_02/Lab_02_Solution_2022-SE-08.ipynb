{
  "cells": [
    {
      "cell_type": "code",
      "execution_count": null,
      "id": "b05585a4",
      "metadata": {
        "id": "b05585a4",
        "outputId": "114088ea-ba51-4143-de96-cd38c8c1940d"
      },
      "outputs": [
        {
          "name": "stdout",
          "output_type": "stream",
          "text": [
            "Hello NLP\n"
          ]
        }
      ],
      "source": [
        "print(\"Hello NLP\")"
      ]
    },
    {
      "cell_type": "code",
      "source": [
        "!pip install PyPDF2"
      ],
      "metadata": {
        "id": "Z8Uw--wV6eE-",
        "outputId": "8279013c-7f82-4dc3-b6ec-e74e80f88709",
        "colab": {
          "base_uri": "https://localhost:8080/"
        }
      },
      "id": "Z8Uw--wV6eE-",
      "execution_count": 1,
      "outputs": [
        {
          "output_type": "stream",
          "name": "stdout",
          "text": [
            "Collecting PyPDF2\n",
            "  Downloading pypdf2-3.0.1-py3-none-any.whl.metadata (6.8 kB)\n",
            "Downloading pypdf2-3.0.1-py3-none-any.whl (232 kB)\n",
            "\u001b[?25l   \u001b[90m━━━━━━━━━━━━━━━━━━━━━━━━━━━━━━━━━━━━━━━━\u001b[0m \u001b[32m0.0/232.6 kB\u001b[0m \u001b[31m?\u001b[0m eta \u001b[36m-:--:--\u001b[0m\r\u001b[2K   \u001b[91m━━━━━━━━━━━━━━━━━━━━━━━━━━━━━\u001b[0m\u001b[91m╸\u001b[0m\u001b[90m━━━━━━━━━━\u001b[0m \u001b[32m174.1/232.6 kB\u001b[0m \u001b[31m4.9 MB/s\u001b[0m eta \u001b[36m0:00:01\u001b[0m\r\u001b[2K   \u001b[90m━━━━━━━━━━━━━━━━━━━━━━━━━━━━━━━━━━━━━━━━\u001b[0m \u001b[32m232.6/232.6 kB\u001b[0m \u001b[31m4.3 MB/s\u001b[0m eta \u001b[36m0:00:00\u001b[0m\n",
            "\u001b[?25hInstalling collected packages: PyPDF2\n",
            "Successfully installed PyPDF2-3.0.1\n"
          ]
        }
      ]
    },
    {
      "cell_type": "code",
      "source": [
        "# Task 1: Print an f-string that displays \"NLP stands for Natural Language Processing\"\n",
        "abbr = 'NLP'\n",
        "full_text = 'Natural Language Processing'\n",
        "print(f\"{abbr} stands for {full_text}\")"
      ],
      "metadata": {
        "id": "-LEhp-1A6yBQ",
        "outputId": "e0c4af4b-6300-47cf-d5d6-556e3d0e2f0d",
        "colab": {
          "base_uri": "https://localhost:8080/"
        }
      },
      "id": "-LEhp-1A6yBQ",
      "execution_count": 3,
      "outputs": [
        {
          "output_type": "stream",
          "name": "stdout",
          "text": [
            "NLP stands for Natural Language Processing\n"
          ]
        }
      ]
    },
    {
      "cell_type": "code",
      "source": [
        "# Task 2: Create a file called contacts.txt and write formatted info if empty\n",
        "with open('contacts.txt', 'w') as file:\n",
        "    pass  # Creates an empty file"
      ],
      "metadata": {
        "id": "8KFpmJsP6yrF"
      },
      "id": "8KFpmJsP6yrF",
      "execution_count": 4,
      "outputs": []
    },
    {
      "cell_type": "code",
      "source": [
        "# Check if the file is empty and write formatted info if it is\n",
        "with open('contacts.txt', 'r+') as file:\n",
        "    content = file.read()\n",
        "    if not content:  # File is empty\n",
        "        file.write(f\"{'Name':<20}: {'Muhammad Abdullah Awan':<30}\\n\")\n",
        "        file.write(f\"{'Email':<20}: {'immuhammadabdullahawan@gmail.com':<30}\\n\")\n",
        "        file.write(f\"{'Phone':<20}: {'03498866549':<15}\\n\")\n",
        "        file.write(\"\\n\")  # Add a blank line for separation"
      ],
      "metadata": {
        "id": "IBreVoy-7njy"
      },
      "id": "IBreVoy-7njy",
      "execution_count": 5,
      "outputs": []
    },
    {
      "cell_type": "code",
      "source": [
        "# Task 3: Open contacts.txt and use .read() to save contents to a string called fields\n",
        "with open('contacts.txt', 'r') as file:\n",
        "    fields = file.read()  # Now fields contains the formatted info"
      ],
      "metadata": {
        "id": "_hl-Pj_-7qNw"
      },
      "id": "_hl-Pj_-7qNw",
      "execution_count": 6,
      "outputs": []
    },
    {
      "cell_type": "code",
      "source": [
        "# Task 4: Use PyPDF2 to open the PDF file and extract text from page 2\n",
        "import PyPDF2\n",
        "pdf_file = \"Business_Proposal.pdf\"\n",
        "with open(pdf_file, 'rb') as file:\n",
        "    reader = PyPDF2.PdfReader(file)\n",
        "    page_2_text = reader.pages[1].extract_text()  # Page 2 (0-based index)"
      ],
      "metadata": {
        "id": "mPgrU09s7vWO"
      },
      "id": "mPgrU09s7vWO",
      "execution_count": 7,
      "outputs": []
    },
    {
      "cell_type": "code",
      "source": [
        "# Task 5: Open contacts.txt in append mode and add the text of page 2\n",
        "with open('contacts.txt', 'a') as file:\n",
        "    file.write(page_2_text)"
      ],
      "metadata": {
        "id": "_rL8bDTs7_GT"
      },
      "id": "_rL8bDTs7_GT",
      "execution_count": 8,
      "outputs": []
    }
  ],
  "metadata": {
    "kernelspec": {
      "display_name": "base",
      "language": "python",
      "name": "python3"
    },
    "language_info": {
      "codemirror_mode": {
        "name": "ipython",
        "version": 3
      },
      "file_extension": ".py",
      "mimetype": "text/x-python",
      "name": "python",
      "nbconvert_exporter": "python",
      "pygments_lexer": "ipython3",
      "version": "3.12.7"
    },
    "colab": {
      "provenance": []
    }
  },
  "nbformat": 4,
  "nbformat_minor": 5
}